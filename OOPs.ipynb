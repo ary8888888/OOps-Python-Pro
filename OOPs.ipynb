{
  "nbformat": 4,
  "nbformat_minor": 0,
  "metadata": {
    "colab": {
      "provenance": []
    },
    "kernelspec": {
      "name": "python3",
      "display_name": "Python 3"
    },
    "language_info": {
      "name": "python"
    }
  },
  "cells": [
    {
      "cell_type": "code",
      "execution_count": null,
      "metadata": {
        "id": "gWpFxW-y_ynO"
      },
      "outputs": [],
      "source": []
    },
    {
      "cell_type": "markdown",
      "source": [
        "1. What is Object-Oriented Programming (OOP)?\n",
        "Solution:-Object-Oriented Programming (OOP) in Python is a programming paradigm that organizes code into objects, which are instances of classes. It’s based on the concept of \"objects,\" which can contain both data (attributes) and methods (functions) that operate on the data. OOP allows you to model real-world entities and their interactions more intuitively and modularly.\n",
        "\n",
        "2. What is a class in OOP?\n",
        "Solution:-A class is a blueprint for creating objects (instances). It defines the properties (attributes) and behaviors (methods) that the objects created from it will have.\n",
        "\n",
        "3. What is an object in OOP?\n",
        "Solution:- An object is an instance of a class. When you create an object, you are creating a specific instance of the class, and that object has its own attributes (data) and can call methods (functions) defined in the class.\n",
        "\n",
        "4. What is the difference between abstraction and encapsulation?\n",
        "Solution: 1. Abstraction\n",
        "*Definition: Abstraction is the concept of hiding the complex implementation details and showing only the essential features of an object. It allows you to focus on what an object does rather than how it does it.\n",
        "*Purpose: The goal of abstraction is to simplify the interface and provide a clear separation between the \"what\" and the \"how.\" It helps in reducing complexity by hiding unnecessary details.\n",
        "2. Encapsulation\n",
        "*Definition: Encapsulation is the concept of bundling the data (attributes) and the methods (functions) that operate on the data into a single unit, i.e., the class. It also restricts direct access to some of an object's components, often by making certain attributes or methods private and exposing them via getter and setter methods.\n",
        "*Purpose: The goal of encapsulation is to protect the object's data and ensure that it is only modified or accessed in a controlled manner, usually through methods (which provide validation or other logic).\n",
        "\n",
        "5. What are dunder methods in Python?\n",
        "Solution: Dunder methods (short for double underscore methods) in Python are special methods that start and end with double underscores (__). These methods are also referred to as magic methods or special methods. They allow you to define how objects of a class interact with built-in Python operations (like arithmetic, string representation, comparison, etc.).\n",
        "These methods are typically called automatically by Python when certain operations or actions are performed on objects, but you can also override them in your own classes to customize the behavior of your objects.\n",
        "\n",
        "6. Explain the concept of inheritance in OOP?\n",
        "Solution:Inheritance is one of the fundamental concepts of Object-Oriented Programming (OOP). It allows a class (called the child class or subclass) to inherit properties and behaviors (attributes and methods) from another class (called the parent class or superclass). Inheritance helps in code reusability and establishing relationships between different classes, making it easier to maintain and extend code.\n",
        "Types:\n",
        "i.Single Inheritance: A class inherits from a single parent class.\n",
        "\n",
        "ii.Multiple Inheritance: A class inherits from more than one parent class. This is possible in Python, though care should be taken to avoid method name conflicts.\n",
        "\n",
        "iii.Multilevel Inheritance: A class inherits from a parent class, and another class inherits from that child class, creating a hierarchy.\n",
        "\n",
        "iv.Hierarchical Inheritance: Multiple classes inherit from a single parent class.\n",
        "\n",
        "v.Hybrid Inheritance: A combination of more than one type of inheritance, like multiple and multilevel inheritance combined.\n",
        "\n",
        "7. What is polymorphism in OOP?\n",
        "Solution:Polymorphism is one of the fundamental principles of Object-Oriented Programming (OOP). The term \"polymorphism\" comes from the Greek words \"poly\" (meaning \"many\") and \"morph\" (meaning \"forms\"). In OOP, polymorphism refers to the ability of different objects to respond to the same method or message in different ways, based on their unique types or classes.\n",
        "\n",
        "Types of Polymorphism:\n",
        "\n",
        "i.Compile-time Polymorphism (Method Overloading): This type of polymorphism occurs when the method signature (method name and/or parameters) is overloaded. Python does not support compile-time polymorphism.\n",
        "\n",
        "ii.Runtime Polymorphism (Method Overriding): This occurs when a subclass provides a specific implementation of a method that is already defined in the parent class, and this method is called during runtime.\n",
        "\n",
        "8. How is encapsulation achieved in Python?\n",
        "\n",
        "Solution:Encapsulation is one of the fundamental principles of Object-Oriented Programming (OOP). It refers to the concept of bundling or wrapping the data (attributes) and the methods (functions) that operate on the data within a single unit (class), and restricting access to some of the object's components. This is done to protect the internal state of the object from unintended or harmful modifications, and to provide controlled access to it.\n",
        "\n",
        "9.  What is a constructor in Python?\n",
        "\n",
        "Solution:In Python, a constructor is a special method that is automatically called when a new object (instance) of a class is created. Its main purpose is to initialize the object's attributes and set up any necessary internal state for the object. The constructor method in Python is named __init__().\n",
        "\n",
        "Key Points about Constructors in Python:\n",
        "*Constructor Method: In Python, the constructor method is defined by the special method __init__(). It is called when an object is created from a class.\n",
        "\n",
        "*Self Parameter: The first parameter of the constructor method is always self, which refers to the instance of the object being created. This allows the constructor to initialize the object’s attributes.\n",
        "\n",
        "*Initialization: The constructor can accept arguments (besides self) to initialize the object's state, such as setting default values or accepting values passed during object creation.\n",
        "\n",
        "*Automatic Invocation: The constructor is called automatically when an object of the class is instantiated. You don’t have to explicitly call the constructor — it’s handled internally.\n",
        "\n",
        "10.  What are class and static methods in Python?\n",
        "\n",
        "Solution:i. Class Methods\n",
        "A class method is a method that is bound to the class and not the instance of the class. It takes the class itself as its first argument, which is usually named cls. Class methods can modify the class state that applies to all instances of the class, but they cannot directly modify the state of individual instances (unless explicitly passed).\n",
        "\n",
        "ii. Static Methods\n",
        "A static method is a method that does not depend on the state of the instance or the class. It is essentially a regular function that belongs to a class's namespace. Static methods do not take self or cls as their first parameter, as they don't have access to the instance (self) or the class (cls).\n",
        "\n",
        "11. What is method overloading in Python?\n",
        "\n",
        "Solution:Method overloading is a concept in object-oriented programming (OOP) that allows a class to define multiple methods with the same name but with different parameter lists (i.e., different numbers or types of arguments). This allows you to call the same method name with different arguments, and the method behavior will vary depending on the input.\n",
        "\n",
        "12. What is method overriding in OOP?\n",
        "\n",
        "Solution:Method overriding is a feature in OOP where a subclass (child class) provides a specific implementation of a method that is already defined in its superclass (parent class). The child class method \"overrides\" the parent class method, meaning that the child class method will be called instead of the parent class method when invoked on an instance of the subclass.\n",
        "\n",
        "Key Points:\n",
        "Inheritance: The child class inherits methods from the parent class.\n",
        "Overriding: The child class can define a method with the same name, parameters, and signature as the method in the parent class.\n",
        "Behavior Change: When the method is called on an object of the child class, the child class's version of the method is executed, not the parent class's version.\n",
        "Purpose: It allows the child class to modify or extend the functionality of a method inherited from the parent class.\n",
        "\n",
        "13.  What is a property decorator in Python?\n",
        "\n",
        "Solution:In Python, the @property decorator is used to define a method that acts like an attribute of a class. It allows you to access the method as if it were an attribute, rather than a method, while still having the flexibility to implement custom behavior when getting or setting the attribute. This is a way to implement getter and setter methods in a more Pythonic and cleaner way.\n",
        "\n",
        "14. Why is polymorphism important in OOP?\n",
        "\n",
        "Solution:Polymorphism is one of the four core concepts of Object-Oriented Programming (OOP), alongside encapsulation, inheritance, and abstraction. It plays a crucial role in improving the flexibility, maintainability, and scalability of software.\n",
        "\n",
        "15. What is an abstract class in Python?\n",
        "\n",
        "Solution:An abstract class in Python is a class that cannot be instantiated on its own and is meant to be subclassed by other classes. It serves as a blueprint for other classes. An abstract class can contain abstract methods (methods that are declared but have no implementation in the abstract class itself) that must be implemented by any subclass.\n",
        "\n",
        "16.  What are the advantages of OOP?\n",
        "\n",
        "Solution:Object-Oriented Programming (OOP) offers several key advantages that make it a powerful and widely-used paradigm in software development. Here are the primary benefits of OOP:\n",
        "\n",
        "i. Modularity (Code Reusability)\n",
        "Modularity means that code is organized into discrete, reusable modules (classes). Each class is designed to handle a specific functionality, making the system more organized and easier to manage.\n",
        "Reusability allows you to use the same code across different parts of the application or even across multiple projects. Once a class is defined, it can be reused without the need to rewrite code.\n",
        "Example: A Car class can be used across different programs or projects involving cars without needing to redefine the properties and methods of a car.\n",
        "\n",
        "ii. Abstraction\n",
        "Abstraction allows you to focus on what an object does instead of how it does it. This simplifies the interaction with complex systems by exposing only relevant details to the user or other components of the program.\n",
        "By hiding unnecessary details, abstraction helps reduce complexity.\n",
        "Example: When using a BankAccount class, you don’t need to understand the internal workings of how deposits and withdrawals are handled, just that you can call methods like deposit() and withdraw().\n",
        "\n",
        "iii. Encapsulation\n",
        "Encapsulation is the concept of bundling the data (attributes) and methods that operate on the data into a single unit (class). This helps protect the internal state of objects from being directly modified, ensuring that data can only be accessed or changed in controlled ways.\n",
        "It prevents unintended interference and misuse of data by keeping it private (using private variables) and providing public methods (getters and setters) to interact with it.\n",
        "Example: A Person class may encapsulate the age attribute and provide public methods like get_age() and set_age() to control how the age attribute is accessed and modified.\n",
        "\n",
        "iv. Inheritance\n",
        "Inheritance allows a class to inherit properties and behaviors (methods) from another class. This promotes code reuse and makes it easier to create a hierarchy of related classes.\n",
        "It enables creating new classes (child classes) that share common behavior with an existing class (parent class) and can also have their own specialized behavior.\n",
        "Example: A Dog class can inherit from an Animal class, gaining its general behaviors (like eat() or sleep()) but can also have its own unique behavior (like bark()).\n",
        "\n",
        "v. Polymorphism\n",
        "Polymorphism allows objects of different classes to be treated as objects of a common superclass. It enables the same method or function to work differently depending on the object that it is acting upon.\n",
        "It helps achieve flexibility and extensibility in your code, allowing new functionality to be added with minimal changes to existing code.\n",
        "Example: If Circle and Rectangle both inherit from a Shape class, they can have their own area() method, but you can call shape.area() for both without worrying about the specific type of shape.\n",
        "\n",
        "vi. Maintainability\n",
        "OOP allows for easier maintenance and modification of code. When a system is well-designed using OOP principles, it’s easier to understand, extend, or modify specific parts of the program without affecting other parts.\n",
        "Changes in one class can be made with minimal impact on other parts of the system, especially if those changes only affect the internal workings of that class (thanks to encapsulation).\n",
        "Example: If you need to update how bank_account balance is calculated, you only need to modify the BankAccount class without touching the rest of the application that uses it.\n",
        "\n",
        "vii. Scalability\n",
        "OOP makes it easier to develop scalable software systems. When you need to scale up a project, new classes can be added with minimal disruption to existing functionality.\n",
        "It’s easy to extend the system by adding new functionality and extending existing classes.\n",
        "Example: A game might have a Character class, and you can easily add subclasses for different character types (e.g., Wizard, Warrior) without modifying the base class.\n",
        "\n",
        "viii. Improved Collaboration and Teamwork\n",
        "OOP enables collaboration among developers. In larger teams, different team members can work on different classes and objects concurrently without interfering with each other’s work.\n",
        "Since OOP promotes modular design, each developer can focus on their specific module, class, or functionality.\n",
        "Example: In a large web application, one team might work on the user authentication system (creating a User class), while another team works on the product catalog (creating a Product class). These two teams can work in parallel without much overlap.\n",
        "\n",
        "ix. Easier Debugging and Testing\n",
        "Since OOP systems are typically modular and well-structured, it is easier to isolate bugs and test specific parts of the system.\n",
        "Each class can be independently tested using unit tests, and if something goes wrong, debugging is easier because the source of the error is typically contained in a specific class or method.\n",
        "Example: If an issue arises with calculating the area of a shape, the Shape class can be tested independently of other parts of the system.\n",
        "\n",
        "x. Real-World Mapping\n",
        "OOP models real-world entities and their interactions in a natural way. Objects in the system can correspond to real-world objects, and methods can represent real-world actions. This makes it easier for developers to think about and model real-world problems and translate them into code.\n",
        "Example: A system modeling a library might have Book, Member, and Loan classes, where each class corresponds to a real-world entity and has its own properties and methods (such as borrow() or return()).\n",
        "\n",
        "17. What is the difference between a class variable and an instance variable?\n",
        "\n",
        "Solution:\n",
        "The key differences:\n",
        "\n",
        "1. Definition:\n",
        "\n",
        "Instance Variable: An instance variable is a variable that is bound to the specific instance of a class. Each object (instance) of the class has its own copy of the instance variable. It is defined inside the __init__ method (or any other method) using self.\n",
        "\n",
        "Class Variable: A class variable is shared by all instances of the class. It is defined directly within the class, outside of any instance methods (i.e., without using self). Class variables are not tied to any specific object, but rather to the class itself.\n",
        "\n",
        "2. Scope:\n",
        "\n",
        "Instance Variable: It is tied to a particular instance (object) of the class. Each object can have different values for its instance variables.\n",
        "\n",
        "Class Variable: It is shared across all instances of the class. All objects of the class access the same value for the class variable, unless explicitly overridden in an instance.\n",
        "\n",
        "3. Access:\n",
        "\n",
        "Instance Variable: You can access an instance variable via an instance of the class, using object.instance_variable.\n",
        "\n",
        "Class Variable: You can access a class variable either through the class itself (e.g., ClassName.class_variable) or through an instance (e.g., object.class_variable), but the value is the same for all instances, unless overridden in an instance.\n",
        "\n",
        "4. Modification:\n",
        "\n",
        "Instance Variable: Modifying an instance variable only affects that specific instance.\n",
        "\n",
        "Class Variable: Modifying a class variable affects all instances of the class, unless the instance has overridden the class variable.\n",
        "\n",
        "5. Use Case:\n",
        "\n",
        "Instance Variable: Typically used to store data that is unique to each instance of a class (e.g., attributes that vary from object to object).\n",
        "\n",
        "Class Variable: Typically used to store data that is common to all instances of the class (e.g., a counter that keeps track of how many instances of the class have been created).\n",
        "\n",
        "18.  What is multiple inheritance in Python?\n",
        "\n",
        "Solution:\n",
        "Multiple inheritance is a feature in Python (and other object-oriented languages) that allows a class to inherit attributes and methods from more than one parent class. This enables a class to combine behavior from multiple classes, making it possible to reuse code from multiple sources and create more complex class hierarchies.\n",
        "\n",
        "19.  Explain the purpose of ‘’__str__’ and ‘__repr__’ ‘ methods in Python?\n",
        "\n",
        "Solution:\n",
        "i. __str__ Method:\n",
        "\n",
        "The __str__ method is used to define a \"user-friendly\" or \"informal\" string representation of an object. This string representation is meant to be readable and provide a clear, concise description of the object for end-users or when using print().\n",
        "\n",
        "Purpose: To return a human-readable or \"pretty\" string that gives a good summary of the object.\n",
        "\n",
        "ii. __repr__ Method:\n",
        "\n",
        "The __repr__ method is used to define a \"formal\" or \"developer-friendly\" string representation of an object. This method is supposed to return a string that, if passed to the eval() function, would ideally produce an object that is equivalent to the original object. The goal is to provide a detailed and unambiguous representation of the object, which is useful for debugging and development.\n",
        "\n",
        "Purpose: To return a string that is more suitable for developers or debugging, providing as much detail as possible about the object.\n",
        "\n",
        "20. What is the significance of the ‘super()’ function in Python?\n",
        "\n",
        "Solution:\n",
        "The super() function in Python is a built-in function used to call methods from a parent (or superclass) class in the context of inheritance. It allows you to access the attributes and methods of a superclass from a subclass, enabling you to build on the functionality of the parent class while extending or modifying it in the child class.\n",
        "\n",
        "21.  What is the significance of the __del__ method in Python?\n",
        "\n",
        "Solution:\n",
        "Significance of __del__ in Python:\n",
        "\n",
        "Object Cleanup:\n",
        "\n",
        ".The primary use of the __del__ method is to define cleanup operations that need to be performed just before an object is destroyed. For example, closing files or freeing resources that were acquired during the lifetime of the object.\n",
        "\n",
        "Automatic Invocation:\n",
        "\n",
        ".You don't call the __del__ method directly. It is invoked automatically by Python’s garbage collector when an object is no longer in use (i.e., when there are no more references to the object).\n",
        "Resource Management:\n",
        "\n",
        "It helps in managing external resources (like network connections or file handles) by ensuring that they are cleaned up when the object is no longer needed.\n",
        "\n",
        "Memory Management:\n",
        "\n",
        ".While Python's garbage collector automatically handles most memory management tasks (such as deallocating objects when they are no longer referenced), __del__ is specifically useful when the object manages resources outside of Python's memory management, which need to be explicitly released.\n",
        "\n",
        "22.  What is the difference between @staticmethod and @classmethod in Python?\n",
        "\n",
        "Solution:\n",
        "#. @staticmethod:\n",
        "Purpose: A static method is a method that doesn't take an implicit first argument like self (for instance methods) or cls (for class methods). It behaves like a regular function but belongs to the class's namespace.\n",
        "Access: Static methods cannot access or modify class state or instance state. They are independent of class and instance.\n",
        "\n",
        "#. @classmethod:\n",
        "Purpose: A class method is a method that is bound to the class rather than an instance. It takes the class as its first argument (conventionally named cls) instead of an instance (self).\n",
        "Access: Class methods can access and modify class-level attributes but not instance-level attributes.\n",
        "\n",
        "23.  How does polymorphism work in Python with inheritance?\n",
        "\n",
        "Solution:\n",
        "Polymorphism Works with Inheritance in Python:\n",
        "\n",
        "*Method Overriding: The subclass provides its own version of a method that is already defined in the parent class. When the method is called on an instance of the subclass, the subclass’s version of the method is executed, not the parent class's version.\n",
        "\n",
        "*Dynamic Method Resolution: In Python, when you call a method on an object, Python will check the class of the object to see if the method exists. If it does, the method from that class is called. If the method doesn’t exist, Python will look for the method in the parent class and continue up the inheritance chain until it finds a method or raises an AttributeError.\n",
        "\n",
        "*Duck Typing: Python uses duck typing, which means that polymorphism can be achieved without explicitly requiring classes to share a common base class. If two different classes define the same method, you can use them interchangeably in your code.\n",
        "\n",
        "24. What is method chaining in Python OOP?\n",
        "\n",
        "Solution:\n",
        "Method chaining in Python OOP (Object-Oriented Programming) refers to the practice of calling multiple methods on the same object in a single line of code. This is possible when each method returns the object itself, allowing you to \"chain\" multiple method calls together.\n",
        "\n",
        "Use method chaining:\n",
        "\n",
        "*Cleaner code: It reduces the need for multiple lines of code and makes the code more readable.\n",
        "\n",
        "*Fluent interface: It's a style that provides a fluent interface, often used in configuration setups or data transformations.\n",
        "\n",
        "25. What is the purpose of the __call__ method in Python?\n",
        "\n",
        "Solution:\n",
        "The __call__ method in Python is a special or \"magic\" method that allows an instance of a class to be called like a function. In other words, it lets you invoke an object as if it were a function. This can be particularly useful when you want objects to behave like callable functions while still maintaining their object-oriented nature.\n",
        "\n",
        "Purpose of the __call__ method:\n",
        "\n",
        "*Make Objects Callable: It allows instances of a class to be invoked as functions, making the object behave in a more functional way.\n",
        "\n",
        "*Encapsulate Behavior: You can use __call__ to encapsulate behavior that would otherwise require a separate function, making your object more flexible.\n",
        "\n",
        "*Control the Call Process: You can define what happens when an object is called (passing arguments, processing them, returning values, etc.).\n",
        "\n"
      ],
      "metadata": {
        "id": "H3A16Wuh_2SG"
      }
    },
    {
      "cell_type": "code",
      "source": [
        "# 1.Create a parent class Animal with a method speak() that prints a generic message. Create a child class Dog that overrides the speak() method to print \"Bark!\".\n",
        "# Parent class\n",
        "class Animal:\n",
        "    def speak(self):\n",
        "        print(\"Animal makes a sound\")\n",
        "\n",
        "# Child class\n",
        "class Dog(Animal):\n",
        "    def speak(self):\n",
        "        print(\"Bark!\")\n",
        "\n",
        "# Creating instances\n",
        "animal = Animal()\n",
        "dog = Dog()\n",
        "\n",
        "# Calling the speak method\n",
        "animal.speak()\n",
        "dog.speak()\n"
      ],
      "metadata": {
        "colab": {
          "base_uri": "https://localhost:8080/"
        },
        "id": "FiKeI4WIJbxS",
        "outputId": "29491599-576b-4f32-8b3c-e317fb6a9118"
      },
      "execution_count": 1,
      "outputs": [
        {
          "output_type": "stream",
          "name": "stdout",
          "text": [
            "Animal makes a sound\n",
            "Bark!\n"
          ]
        }
      ]
    },
    {
      "cell_type": "code",
      "source": [
        "# 2.. Write a program to create an abstract class Shape with a method area(). Derive classes Circle and Rectangle from it and implement the area() method in both.\n",
        "\n",
        "#Solution\n",
        "from abc import ABC, abstractmethod\n",
        "import math\n",
        "\n",
        "# Abstract class\n",
        "class Shape(ABC):\n",
        "\n",
        "    @abstractmethod\n",
        "    def area(self):\n",
        "        pass\n",
        "\n",
        "# Derived class for Circle\n",
        "class Circle(Shape):\n",
        "    def __init__(self, radius):\n",
        "        self.radius = radius\n",
        "\n",
        "    def area(self):\n",
        "        return math.pi * self.radius ** 2\n",
        "\n",
        "# Derived class for Rectangle\n",
        "class Rectangle(Shape):\n",
        "    def __init__(self, length, width):\n",
        "        self.length = length\n",
        "        self.width = width\n",
        "\n",
        "    def area(self):\n",
        "        return self.length * self.width\n",
        "\n",
        "# Creating instances\n",
        "circle = Circle(5)\n",
        "rectangle = Rectangle(4, 6)\n",
        "\n",
        "# Displaying the areas\n",
        "print(f\"Area of Circle: {circle.area()}\")        # Area of Circle: 78.53981633974483\n",
        "print(f\"Area of Rectangle: {rectangle.area()}\")  # Area of Rectangle: 24\n"
      ],
      "metadata": {
        "colab": {
          "base_uri": "https://localhost:8080/"
        },
        "id": "8T20HxozJ2hc",
        "outputId": "92e12575-4a91-485c-fb33-d78a256d078b"
      },
      "execution_count": 2,
      "outputs": [
        {
          "output_type": "stream",
          "name": "stdout",
          "text": [
            "Area of Circle: 78.53981633974483\n",
            "Area of Rectangle: 24\n"
          ]
        }
      ]
    },
    {
      "cell_type": "code",
      "source": [
        "# 3.Implement a multi-level inheritance scenario where a class Vehicle has an attribute type. Derive a class Car and further derive a class ElectricCar that adds a battery attribute.\n",
        "\n",
        "# Base class: Vehicle\n",
        "class Vehicle:\n",
        "    def __init__(self, vehicle_type):\n",
        "        self.vehicle_type = vehicle_type\n",
        "\n",
        "    def display_type(self):\n",
        "        print(f\"This is a {self.vehicle_type}\")\n",
        "\n",
        "# Derived class: Car (inherits from Vehicle)\n",
        "class Car(Vehicle):\n",
        "    def __init__(self, vehicle_type, brand, model):\n",
        "        # Calling the parent class constructor\n",
        "        super().__init__(vehicle_type)\n",
        "        self.brand = brand\n",
        "        self.model = model\n",
        "\n",
        "    def display_details(self):\n",
        "        print(f\"Car Brand: {self.brand}, Model: {self.model}\")\n",
        "\n",
        "# Further derived class: ElectricCar (inherits from Car)\n",
        "class ElectricCar(Car):\n",
        "    def __init__(self, vehicle_type, brand, model, battery_capacity):\n",
        "        # Calling the parent class constructor (Car's constructor)\n",
        "        super().__init__(vehicle_type, brand, model)\n",
        "        self.battery_capacity = battery_capacity\n",
        "\n",
        "    def display_battery(self):\n",
        "        print(f\"Electric Car Battery Capacity: {self.battery_capacity} kWh\")\n",
        "\n",
        "# Creating instances\n",
        "vehicle = Vehicle(\"Vehicle\")\n",
        "car = Car(\"Car\", \"Toyota\", \"Camry\")\n",
        "electric_car = ElectricCar(\"Electric Car\", \"Tesla\", \"Model S\", 75)\n",
        "\n",
        "# Displaying information\n",
        "vehicle.display_type()\n",
        "car.display_type()\n",
        "car.display_details()\n",
        "electric_car.display_type()\n",
        "electric_car.display_details()\n",
        "electric_car.display_battery()\n"
      ],
      "metadata": {
        "colab": {
          "base_uri": "https://localhost:8080/"
        },
        "id": "QX7W3oitKJEJ",
        "outputId": "d66c5571-f3f3-42b4-82d8-fbcc51156cce"
      },
      "execution_count": 3,
      "outputs": [
        {
          "output_type": "stream",
          "name": "stdout",
          "text": [
            "This is a Vehicle\n",
            "This is a Car\n",
            "Car Brand: Toyota, Model: Camry\n",
            "This is a Electric Car\n",
            "Car Brand: Tesla, Model: Model S\n",
            "Electric Car Battery Capacity: 75 kWh\n"
          ]
        }
      ]
    },
    {
      "cell_type": "code",
      "source": [
        "# 4. Demonstrate polymorphism by creating a base class Bird with a method fly(). Create two derived classes Sparrow and Penguin that override the fly() method.\n",
        "\n",
        "# Base class: Bird\n",
        "class Bird:\n",
        "    def fly(self):\n",
        "        print(\"This bird can fly\")\n",
        "\n",
        "# Derived class: Sparrow (inherits from Bird)\n",
        "class Sparrow(Bird):\n",
        "    def fly(self):\n",
        "        print(\"Sparrow flies high in the sky\")\n",
        "\n",
        "# Derived class: Penguin (inherits from Bird)\n",
        "class Penguin(Bird):\n",
        "    def fly(self):\n",
        "        print(\"Penguin cannot fly\")\n",
        "\n",
        "# Creating instances\n",
        "bird = Bird()\n",
        "sparrow = Sparrow()\n",
        "penguin = Penguin()\n",
        "\n",
        "# Demonstrating polymorphism\n",
        "def make_bird_fly(bird_instance):\n",
        "    bird_instance.fly()\n",
        "\n",
        "# Calling the same method on different types of birds\n",
        "make_bird_fly(bird)\n",
        "make_bird_fly(sparrow)\n",
        "make_bird_fly(penguin)\n"
      ],
      "metadata": {
        "colab": {
          "base_uri": "https://localhost:8080/"
        },
        "id": "PVLdNAMPKjPS",
        "outputId": "eaf83efa-4d27-4b3f-894a-75cbd9766b9f"
      },
      "execution_count": 4,
      "outputs": [
        {
          "output_type": "stream",
          "name": "stdout",
          "text": [
            "This bird can fly\n",
            "Sparrow flies high in the sky\n",
            "Penguin cannot fly\n"
          ]
        }
      ]
    },
    {
      "cell_type": "code",
      "source": [
        "# 5.Write a program to demonstrate encapsulation by creating a class BankAccount with private attributes balance and methods to deposit, withdraw, and check balance\n",
        "\n",
        "class BankAccount:\n",
        "    def __init__(self, initial_balance):\n",
        "        # Private attribute balance (encapsulation)\n",
        "        self.__balance = initial_balance\n",
        "\n",
        "    # Public method to deposit money\n",
        "    def deposit(self, amount):\n",
        "        if amount > 0:\n",
        "            self.__balance += amount\n",
        "            print(f\"Deposited: {amount}\")\n",
        "        else:\n",
        "            print(\"Deposit amount must be positive\")\n",
        "\n",
        "    # Public method to withdraw money\n",
        "    def withdraw(self, amount):\n",
        "        if 0 < amount <= self.__balance:\n",
        "            self.__balance -= amount\n",
        "            print(f\"Withdrew: {amount}\")\n",
        "        else:\n",
        "            print(\"Invalid withdrawal amount or insufficient funds\")\n",
        "\n",
        "    # Public method to check balance\n",
        "    def check_balance(self):\n",
        "        print(f\"Current balance: {self.__balance}\")\n",
        "\n",
        "# Create a BankAccount object\n",
        "account = BankAccount(1000)\n",
        "\n",
        "# Check balance\n",
        "account.check_balance()\n",
        "\n",
        "# Deposit money\n",
        "account.deposit(500)\n",
        "account.check_balance()\n",
        "\n",
        "# Withdraw money\n",
        "account.withdraw(200)\n",
        "account.check_balance()\n",
        "\n",
        "# Attempt to withdraw more than available balance\n",
        "account.withdraw(2000)"
      ],
      "metadata": {
        "colab": {
          "base_uri": "https://localhost:8080/"
        },
        "id": "JuqFikP7K0ii",
        "outputId": "01636835-90ea-4436-add3-e373a3be7bef"
      },
      "execution_count": 5,
      "outputs": [
        {
          "output_type": "stream",
          "name": "stdout",
          "text": [
            "Current balance: 1000\n",
            "Deposited: 500\n",
            "Current balance: 1500\n",
            "Withdrew: 200\n",
            "Current balance: 1300\n",
            "Invalid withdrawal amount or insufficient funds\n"
          ]
        }
      ]
    },
    {
      "cell_type": "code",
      "source": [
        "# 6. Demonstrate runtime polymorphism using a method play() in a base class Instrument. Derive classes Guitar and Piano that implement their own version of play()\n",
        "\n",
        "# Base class: Instrument\n",
        "class Instrument:\n",
        "    def play(self):\n",
        "        print(\"Playing a generic instrument\")\n",
        "\n",
        "# Derived class: Guitar\n",
        "class Guitar(Instrument):\n",
        "    def play(self):\n",
        "        print(\"Strumming the guitar\")\n",
        "\n",
        "# Derived class: Piano\n",
        "class Piano(Instrument):\n",
        "    def play(self):\n",
        "        print(\"Playing the piano keys\")\n",
        "\n",
        "# Creating instances of Guitar and Piano\n",
        "guitar = Guitar()\n",
        "piano = Piano()\n",
        "\n",
        "# Demonstrating runtime polymorphism by calling the play() method\n",
        "def perform_play(instrument):\n",
        "    instrument.play()\n",
        "\n",
        "# Call the same method on different objects\n",
        "perform_play(guitar)\n",
        "perform_play(piano)\n"
      ],
      "metadata": {
        "colab": {
          "base_uri": "https://localhost:8080/"
        },
        "id": "e56tL30lLICd",
        "outputId": "d628c551-d825-4660-a957-5b10a7844960"
      },
      "execution_count": 6,
      "outputs": [
        {
          "output_type": "stream",
          "name": "stdout",
          "text": [
            "Strumming the guitar\n",
            "Playing the piano keys\n"
          ]
        }
      ]
    },
    {
      "cell_type": "code",
      "source": [
        "# 7. Create a class MathOperations with a class method add_numbers() to add two numbers and a static method subtract_numbers() to subtract two numbers\n",
        "\n",
        "class MathOperations:\n",
        "\n",
        "    # Class method to add two numbers\n",
        "    @classmethod\n",
        "    def add_numbers(cls, a, b):\n",
        "        return a + b\n",
        "\n",
        "    # Static method to subtract two numbers\n",
        "    @staticmethod\n",
        "    def subtract_numbers(a, b):\n",
        "        return a - b\n",
        "\n",
        "# Using the class method to add numbers\n",
        "sum_result = MathOperations.add_numbers(10, 5)\n",
        "print(f\"Sum: {sum_result}\")  # Output: Sum: 15\n",
        "\n",
        "# Using the static method to subtract numbers\n",
        "sub_result = MathOperations.subtract_numbers(10, 5)\n",
        "print(f\"Difference: {sub_result}\")  # Output: Difference: 5\n"
      ],
      "metadata": {
        "colab": {
          "base_uri": "https://localhost:8080/"
        },
        "id": "rlF7qVgvLjxd",
        "outputId": "714d49ed-589e-4d25-a580-bb7210e9e0ae"
      },
      "execution_count": 7,
      "outputs": [
        {
          "output_type": "stream",
          "name": "stdout",
          "text": [
            "Sum: 15\n",
            "Difference: 5\n"
          ]
        }
      ]
    },
    {
      "cell_type": "code",
      "source": [
        "# 8. Implement a class Person with a class method to count the total number of persons created\n",
        "\n",
        "class Person:\n",
        "    # Class variable to keep track of the total number of persons\n",
        "    total_persons = 0\n",
        "\n",
        "    def __init__(self, name, age):\n",
        "        # Initialize instance attributes\n",
        "        self.name = name\n",
        "        self.age = age\n",
        "        # Increment the total_persons counter each time a new person is created\n",
        "        Person.total_persons += 1\n",
        "\n",
        "    # Class method to get the total number of persons created\n",
        "    @classmethod\n",
        "    def get_total_persons(cls):\n",
        "        return cls.total_persons\n",
        "\n",
        "# Creating Person objects\n",
        "person1 = Person(\"Alice\", 30)\n",
        "person2 = Person(\"Bob\", 25)\n",
        "person3 = Person(\"Charlie\", 35)\n",
        "\n",
        "# Accessing the class method to get the total number of persons created\n",
        "print(f\"Total persons created: {Person.get_total_persons()}\")\n"
      ],
      "metadata": {
        "colab": {
          "base_uri": "https://localhost:8080/"
        },
        "id": "TR_2JazoLxMb",
        "outputId": "d870561f-8109-4140-bfc2-85da8104267d"
      },
      "execution_count": 8,
      "outputs": [
        {
          "output_type": "stream",
          "name": "stdout",
          "text": [
            "Total persons created: 3\n"
          ]
        }
      ]
    },
    {
      "cell_type": "code",
      "source": [
        "# 9.Write a class Fraction with attributes numerator and denominator. Override the str method to display the fraction as \"numerator/denominator\".\n",
        "\n",
        "class Fraction:\n",
        "    def __init__(self, numerator, denominator):\n",
        "        # Initialize the numerator and denominator\n",
        "        self.numerator = numerator\n",
        "        self.denominator = denominator\n",
        "\n",
        "    # Override the __str__ method to display the fraction in 'numerator/denominator' format\n",
        "    def __str__(self):\n",
        "        return f\"{self.numerator}/{self.denominator}\"\n",
        "\n",
        "# Creating Fraction objects\n",
        "fraction1 = Fraction(3, 4)\n",
        "fraction2 = Fraction(5, 8)\n",
        "\n",
        "# Printing the fractions\n",
        "print(fraction1)\n",
        "print(fraction2)\n"
      ],
      "metadata": {
        "colab": {
          "base_uri": "https://localhost:8080/"
        },
        "id": "swCGKWlrL7ID",
        "outputId": "14df5376-4de7-447c-e3e3-9a3cd9b4f43e"
      },
      "execution_count": 9,
      "outputs": [
        {
          "output_type": "stream",
          "name": "stdout",
          "text": [
            "3/4\n",
            "5/8\n"
          ]
        }
      ]
    },
    {
      "cell_type": "code",
      "source": [
        "# 10.Demonstrate operator overloading by creating a class Vector and overriding the add method to add two vectors\n",
        "\n",
        "class Vector:\n",
        "    def __init__(self, x, y):\n",
        "        # Initialize vector with x and y components\n",
        "        self.x = x\n",
        "        self.y = y\n",
        "\n",
        "    # Overloading the '+' operator to add two vectors\n",
        "    def __add__(self, other):\n",
        "        if isinstance(other, Vector):\n",
        "            # Add corresponding components of the two vectors\n",
        "            return Vector(self.x + other.x, self.y + other.y)\n",
        "        else:\n",
        "            raise ValueError(\"Can only add Vector to another Vector\")\n",
        "\n",
        "    # For displaying the vector in a readable format\n",
        "    def __str__(self):\n",
        "        return f\"({self.x}, {self.y})\"\n",
        "\n",
        "# Creating Vector objects\n",
        "vector1 = Vector(3, 4)\n",
        "vector2 = Vector(1, 2)\n",
        "\n",
        "# Adding the vectors using the overloaded '+' operator\n",
        "result = vector1 + vector2\n",
        "\n",
        "# Printing the result\n",
        "print(f\"Result of vector addition: {result}\")\n"
      ],
      "metadata": {
        "colab": {
          "base_uri": "https://localhost:8080/"
        },
        "id": "-zjZRN0FMMpw",
        "outputId": "21258c8e-899c-4e09-d10a-917dd57881c6"
      },
      "execution_count": 10,
      "outputs": [
        {
          "output_type": "stream",
          "name": "stdout",
          "text": [
            "Result of vector addition: (4, 6)\n"
          ]
        }
      ]
    },
    {
      "cell_type": "code",
      "source": [
        "# 11. Create a class Person with attributes name and age. Add a method greet() that prints \"Hello, my name is {name} and I am {age} years old.\"\n",
        "\n",
        "class Person:\n",
        "    def __init__(self, name, age):\n",
        "        # Initialize the attributes name and age\n",
        "        self.name = name\n",
        "        self.age = age\n",
        "\n",
        "    def greet(self):\n",
        "        # Print a greeting message with name and age\n",
        "        print(f\"Hello, my name is {self.name} and I am {self.age} years old.\")\n",
        "\n",
        "# Creating Person objects\n",
        "person1 = Person(\"Alice\", 30)\n",
        "person2 = Person(\"Bob\", 25)\n",
        "\n",
        "# Calling the greet() method for both person objects\n",
        "person1.greet()\n",
        "person2.greet()\n"
      ],
      "metadata": {
        "colab": {
          "base_uri": "https://localhost:8080/"
        },
        "id": "wxlzB06wMdmw",
        "outputId": "64ab8d9b-42f1-452c-d557-df8a2be78a08"
      },
      "execution_count": 11,
      "outputs": [
        {
          "output_type": "stream",
          "name": "stdout",
          "text": [
            "Hello, my name is Alice and I am 30 years old.\n",
            "Hello, my name is Bob and I am 25 years old.\n"
          ]
        }
      ]
    },
    {
      "cell_type": "code",
      "source": [
        "# 12.. Implement a class Student with attributes name and grades. Create a method average_grade() to compute the average of the grades\n",
        "\n",
        "class Student:\n",
        "    def __init__(self, name, grades):\n",
        "        # Initialize the name and grades attributes\n",
        "        self.name = name\n",
        "        self.grades = grades\n",
        "\n",
        "    def average_grade(self):\n",
        "        # Compute the average of the grades\n",
        "        if len(self.grades) > 0:\n",
        "            return sum(self.grades) / len(self.grades)\n",
        "        else:\n",
        "            return 0  # If there are no grades, return 0\n",
        "\n",
        "# Creating Student objects\n",
        "student1 = Student(\"Alice\", [90, 85, 88, 92])\n",
        "student2 = Student(\"Bob\", [75, 80, 82])\n",
        "\n",
        "# Calling the average_grade() method for both students\n",
        "print(f\"{student1.name}'s average grade: {student1.average_grade()}\")\n",
        "print(f\"{student2.name}'s average grade: {student2.average_grade()}\")\n"
      ],
      "metadata": {
        "colab": {
          "base_uri": "https://localhost:8080/"
        },
        "id": "gmAzG3frM5fx",
        "outputId": "6cb37107-b41a-4abc-f952-4b049edf8305"
      },
      "execution_count": 12,
      "outputs": [
        {
          "output_type": "stream",
          "name": "stdout",
          "text": [
            "Alice's average grade: 88.75\n",
            "Bob's average grade: 79.0\n"
          ]
        }
      ]
    },
    {
      "cell_type": "code",
      "source": [
        "# 13.. Create a class Rectangle with methods set_dimensions() to set the dimensions and area() to calculate the area.\n",
        "\n",
        "class Rectangle:\n",
        "    def __init__(self):\n",
        "        # Initialize length and width to 0 by default\n",
        "        self.length = 0\n",
        "        self.width = 0\n",
        "\n",
        "    def set_dimensions(self, length, width):\n",
        "        # Set the dimensions of the rectangle\n",
        "        self.length = length\n",
        "        self.width = width\n",
        "\n",
        "    def area(self):\n",
        "        # Calculate and return the area of the rectangle\n",
        "        return self.length * self.width\n",
        "\n",
        "# Creating a Rectangle object\n",
        "rectangle = Rectangle()\n",
        "\n",
        "# Setting the dimensions of the rectangle\n",
        "rectangle.set_dimensions(5, 3)\n",
        "\n",
        "# Calculating the area of the rectangle\n",
        "print(f\"Area of the rectangle: {rectangle.area()}\")  # Output: Area of the rectangle: 15\n"
      ],
      "metadata": {
        "colab": {
          "base_uri": "https://localhost:8080/"
        },
        "id": "DSeQd-VHNM2s",
        "outputId": "1b26892e-efe7-48a5-e9db-622c90422841"
      },
      "execution_count": 13,
      "outputs": [
        {
          "output_type": "stream",
          "name": "stdout",
          "text": [
            "Area of the rectangle: 15\n"
          ]
        }
      ]
    },
    {
      "cell_type": "code",
      "source": [
        "# 14.Create a class Employee with a method calculate_salary() that computes the salary based on hours worked and hourly rate. Create a derived class Manager that adds a bonus to the salary.\n",
        "\n",
        "class Employee:\n",
        "    def __init__(self, hours_worked, hourly_rate):\n",
        "        # Initialize hours worked and hourly rate\n",
        "        self.hours_worked = hours_worked\n",
        "        self.hourly_rate = hourly_rate\n",
        "\n",
        "    def calculate_salary(self):\n",
        "        # Calculate the salary based on hours worked and hourly rate\n",
        "        return self.hours_worked * self.hourly_rate\n",
        "\n",
        "\n",
        "class Manager(Employee):\n",
        "    def __init__(self, hours_worked, hourly_rate, bonus):\n",
        "        # Initialize the parent class (Employee) attributes\n",
        "        super().__init__(hours_worked, hourly_rate)\n",
        "        # Initialize the bonus attribute for Manager\n",
        "        self.bonus = bonus\n",
        "\n",
        "    def calculate_salary(self):\n",
        "        # Calculate salary using the parent's method and add the bonus\n",
        "        base_salary = super().calculate_salary()\n",
        "        return base_salary + self.bonus\n",
        "\n",
        "\n",
        "# Creating Employee and Manager objects\n",
        "employee = Employee(40, 20)  # 40 hours worked at $20/hour\n",
        "manager = Manager(40, 25, 500)  # 40 hours worked at $25/hour with a $500 bonus\n",
        "\n",
        "# Calculating the salaries\n",
        "print(f\"Employee's salary: ${employee.calculate_salary()}\")\n",
        "print(f\"Manager's salary: ${manager.calculate_salary()}\")\n"
      ],
      "metadata": {
        "colab": {
          "base_uri": "https://localhost:8080/"
        },
        "id": "UobIApNMNhFN",
        "outputId": "b5736945-0ed3-4661-efe7-01b690f721cd"
      },
      "execution_count": 14,
      "outputs": [
        {
          "output_type": "stream",
          "name": "stdout",
          "text": [
            "Employee's salary: $800\n",
            "Manager's salary: $1500\n"
          ]
        }
      ]
    },
    {
      "cell_type": "code",
      "source": [
        "# 15. Create a class Product with attributes name, price, and quantity. Implement a method total_price() that calculates the total price of the product\n",
        "\n",
        "class Product:\n",
        "    def __init__(self, name, price, quantity):\n",
        "        # Initialize the product attributes\n",
        "        self.name = name\n",
        "        self.price = price\n",
        "        self.quantity = quantity\n",
        "\n",
        "    def total_price(self):\n",
        "        # Calculate the total price (price * quantity)\n",
        "        return self.price * self.quantity\n",
        "\n",
        "# Creating Product objects\n",
        "product1 = Product(\"Laptop\", 1000, 3)  # 3 laptops, each priced at $1000\n",
        "product2 = Product(\"Smartphone\", 600, 5)  # 5 smartphones, each priced at $600\n",
        "\n",
        "# Calculating and printing the total price for each product\n",
        "print(f\"Total price of {product1.name}: ${product1.total_price()}\")\n",
        "print(f\"Total price of {product2.name}: ${product2.total_price()}\")\n"
      ],
      "metadata": {
        "colab": {
          "base_uri": "https://localhost:8080/"
        },
        "id": "Je79s7V2NzI7",
        "outputId": "7d0d863a-26b2-41f1-c1a6-1442d4d95c7d"
      },
      "execution_count": 15,
      "outputs": [
        {
          "output_type": "stream",
          "name": "stdout",
          "text": [
            "Total price of Laptop: $3000\n",
            "Total price of Smartphone: $3000\n"
          ]
        }
      ]
    },
    {
      "cell_type": "code",
      "source": [
        "# 16.. Create a class Animal with an abstract method sound(). Create two derived classes Cow and Sheep that implement the sound() method.\n",
        "\n",
        "from abc import ABC, abstractmethod\n",
        "\n",
        "# Abstract Base Class\n",
        "class Animal(ABC):\n",
        "    @abstractmethod\n",
        "    def sound(self):\n",
        "        pass\n",
        "\n",
        "# Derived Class: Cow\n",
        "class Cow(Animal):\n",
        "    def sound(self):\n",
        "        return \"Moo\"\n",
        "\n",
        "# Derived Class: Sheep\n",
        "class Sheep(Animal):\n",
        "    def sound(self):\n",
        "        return \"Baa\"\n",
        "\n",
        "# Creating instances of Cow and Sheep\n",
        "cow = Cow()\n",
        "sheep = Sheep()\n",
        "\n",
        "# Calling the sound method\n",
        "print(f\"The sound of a cow is: {cow.sound()}\")  # Output: The sound of a cow is: Moo\n",
        "print(f\"The sound of a sheep is: {sheep.sound()}\")  # Output: The sound of a sheep is: Baa\n"
      ],
      "metadata": {
        "colab": {
          "base_uri": "https://localhost:8080/"
        },
        "id": "Ui9NvpGzOG3V",
        "outputId": "815e79e2-fe39-4d21-f2e2-67258bec06d6"
      },
      "execution_count": 16,
      "outputs": [
        {
          "output_type": "stream",
          "name": "stdout",
          "text": [
            "The sound of a cow is: Moo\n",
            "The sound of a sheep is: Baa\n"
          ]
        }
      ]
    },
    {
      "cell_type": "code",
      "source": [
        "# 17.Create a class Book with attributes title, author, and year_published. Add a method get_book_info() that returns a formatted string with the book's details.\n",
        "\n",
        "class Book:\n",
        "    def __init__(self, title, author, year_published):\n",
        "        # Initialize the book attributes\n",
        "        self.title = title\n",
        "        self.author = author\n",
        "        self.year_published = year_published\n",
        "\n",
        "    def get_book_info(self):\n",
        "        # Return a formatted string with the book's details\n",
        "        return f\"Title: {self.title}\\nAuthor: {self.author}\\nYear Published: {self.year_published}\"\n",
        "\n",
        "# Creating a Book object\n",
        "book1 = Book(\"To Kill a Mockingbird\", \"Harper Lee\", 1960)\n",
        "book2 = Book(\"1984\", \"George Orwell\", 1949)\n",
        "\n",
        "# Getting the book information\n",
        "print(book1.get_book_info())\n",
        "print(book2.get_book_info())\n"
      ],
      "metadata": {
        "colab": {
          "base_uri": "https://localhost:8080/"
        },
        "id": "-nws7WxgOUrp",
        "outputId": "6ce9fe4f-1d65-4962-ce96-070a73cc2e82"
      },
      "execution_count": 17,
      "outputs": [
        {
          "output_type": "stream",
          "name": "stdout",
          "text": [
            "Title: To Kill a Mockingbird\n",
            "Author: Harper Lee\n",
            "Year Published: 1960\n",
            "Title: 1984\n",
            "Author: George Orwell\n",
            "Year Published: 1949\n"
          ]
        }
      ]
    },
    {
      "cell_type": "code",
      "source": [
        "# 18.Create a class House with attributes address and price. Create a derived class Mansion that adds an attribute number_of_rooms.\n",
        "\n",
        "# Base class House\n",
        "class House:\n",
        "    def __init__(self, address, price):\n",
        "        # Initialize the address and price attributes\n",
        "        self.address = address\n",
        "        self.price = price\n",
        "\n",
        "    def get_house_info(self):\n",
        "        # Return the basic information of the house\n",
        "        return f\"Address: {self.address}\\nPrice: ${self.price}\"\n",
        "\n",
        "# Derived class Mansion\n",
        "class Mansion(House):\n",
        "    def __init__(self, address, price, number_of_rooms):\n",
        "        # Initialize the base class (House) attributes\n",
        "        super().__init__(address, price)\n",
        "        # Initialize the additional attribute number_of_rooms\n",
        "        self.number_of_rooms = number_of_rooms\n",
        "\n",
        "    def get_mansion_info(self):\n",
        "        # Return the mansion information including number of rooms\n",
        "        return f\"{self.get_house_info()}\\nNumber of Rooms: {self.number_of_rooms}\"\n",
        "\n",
        "# Creating House and Mansion objects\n",
        "house = House(\"123 Main St\", 250000)\n",
        "mansion = Mansion(\"456 Luxury Ave\", 5000000, 20)\n",
        "\n",
        "# Printing the information\n",
        "print(\"House Info:\")\n",
        "print(house.get_house_info())\n",
        "print(\"\\nMansion Info:\")\n",
        "print(mansion.get_mansion_info())\n"
      ],
      "metadata": {
        "colab": {
          "base_uri": "https://localhost:8080/"
        },
        "id": "vH-N0_rNOiAC",
        "outputId": "6d3a500e-d507-40dd-bd7f-2777467ca745"
      },
      "execution_count": 18,
      "outputs": [
        {
          "output_type": "stream",
          "name": "stdout",
          "text": [
            "House Info:\n",
            "Address: 123 Main St\n",
            "Price: $250000\n",
            "\n",
            "Mansion Info:\n",
            "Address: 456 Luxury Ave\n",
            "Price: $5000000\n",
            "Number of Rooms: 20\n"
          ]
        }
      ]
    }
  ]
}